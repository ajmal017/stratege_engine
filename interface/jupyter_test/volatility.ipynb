{
 "cells": [
  {
   "cell_type": "code",
   "execution_count": 35,
   "metadata": {
    "collapsed": true
   },
   "outputs": [],
   "source": [
    "import sys\n",
    "import os\n",
    "\n",
    "\n",
    "if '/Users/zhang/PycharmProjects/strategy_engine_v2' not in sys.path:\n",
    "    sys.path.append(\"/Users/zhang/PycharmProjects/strategy_engine_v2\")\n",
    "os.environ['config.dir'] = \"/Users/zhang/PycharmProjects/strategy_engine_v2/interface\"\n",
    "os.environ['config.log'] = \"/Users/zhang/PycharmProjects/strategy_engine_v2/interface/log_jupyter.yaml\"\n",
    "# 如果没有日志目录的话，则创建\n",
    "if not os.path.exists(\"log\"):\n",
    "    os.makedirs(\"log\")\n"
   ]
  },
  {
   "cell_type": "code",
   "execution_count": 47,
   "outputs": [],
   "source": [
    "# 计算日内回报、日间回报、以及总回报序列\n",
    "from se.domain2.time_series.time_series import HistoryDataQueryCommand, TimeSeriesRepo, TimeSeries\n",
    "from trading_calendars import get_calendar\n",
    "import pandas as pd\n",
    "import numpy as np\n",
    "from se import *\n",
    "start = pd.Timestamp(\"2019-07-09\", tz='Asia/Shanghai')\n",
    "end = pd.Timestamp(\"2021-02-05\", tz='Asia/Shanghai')\n",
    "command = HistoryDataQueryCommand(start, end, ['SPCE_STK_USD_SMART'])\n",
    "command.with_calendar(get_calendar(\"NYSE\"))\n",
    "ts_repo: TimeSeriesRepo = BeanContainer.getBean(TimeSeriesRepo)\n",
    "ts: TimeSeries = ts_repo.find_one(\"ibAdjustedDailyBar\")\n",
    "\n",
    "df = ts.history_data(command)\n",
    "df = df.droplevel(level=1)\n",
    "# 注意origin的tz必须跟原始的DataFrame的DatetimeIndex的timezone相同\n",
    "pre_open_to_close_rets = (df['close'] / df['open']).apply(np.log)\n",
    "pre_close_to_close_rets = (df['close'] / df['close'].shift(1)).apply(np.log)\n",
    "next_close_to_open_rets = (df['open'].shift(-1) / df['close']).apply(np.log)\n",
    "next_close_to_close_rets = (df['close'].shift(-1) / df['close']).apply(np.log)\n",
    "rets_on_close = pd.DataFrame({\"pre_oc\": pre_open_to_close_rets, \"pre_cc\": pre_close_to_close_rets,\n",
    "                     \"next_co\": next_close_to_open_rets, 'next_cc': next_close_to_close_rets})\n",
    "\n",
    "next_open_to_close_rets = (df['close'] / df['open']).apply(np.log)\n",
    "next_open_to_open_rets = (df['open'].shift(-1) / df['open']).apply(np.log)\n",
    "pre_close_to_open_rets = (df['open'] / df['close'].shift(1)).apply(np.log)\n",
    "pre_open_to_open_rets = (df['open'] / df['open'].shift(1)).apply(np.log)\n",
    "\n",
    "rets_on_open = pd.DataFrame({\n",
    "    'pre_co': pre_close_to_open_rets,\n",
    "    \"pre_oo\": pre_open_to_open_rets,\n",
    "    \"next_oc\": next_open_to_close_rets,\n",
    "    \"next_oo\": next_open_to_open_rets,\n",
    "})\n",
    "rets_on_open.index = rets_on_open.index - pd.Timedelta(hours=6, minutes=30)\n",
    "rets_on_close = rets_on_close.dropna()\n",
    "rets_on_open = rets_on_open.dropna()"
   ],
   "metadata": {
    "collapsed": false,
    "pycharm": {
     "name": "#%%\n"
    }
   }
  },
  {
   "cell_type": "code",
   "execution_count": 49,
   "outputs": [
    {
     "data": {
      "text/plain": "                             pre_co    pre_oo   next_oc   next_oo\nvisible_time                                                     \n2019-07-09 21:30:00+08:00  0.046825  0.045867 -0.022203 -0.011965\n2019-07-10 21:30:00+08:00  0.010237 -0.011965 -0.001854 -0.004640\n2019-07-11 21:30:00+08:00 -0.002787 -0.004640 -0.014996 -0.009346\n2019-07-12 21:30:00+08:00  0.005650 -0.009346 -0.001880  0.002813\n2019-07-15 21:30:00+08:00  0.004693  0.002813 -0.009407 -0.007519",
      "text/html": "<div>\n<style scoped>\n    .dataframe tbody tr th:only-of-type {\n        vertical-align: middle;\n    }\n\n    .dataframe tbody tr th {\n        vertical-align: top;\n    }\n\n    .dataframe thead th {\n        text-align: right;\n    }\n</style>\n<table border=\"1\" class=\"dataframe\">\n  <thead>\n    <tr style=\"text-align: right;\">\n      <th></th>\n      <th>pre_co</th>\n      <th>pre_oo</th>\n      <th>next_oc</th>\n      <th>next_oo</th>\n    </tr>\n    <tr>\n      <th>visible_time</th>\n      <th></th>\n      <th></th>\n      <th></th>\n      <th></th>\n    </tr>\n  </thead>\n  <tbody>\n    <tr>\n      <th>2019-07-09 21:30:00+08:00</th>\n      <td>0.046825</td>\n      <td>0.045867</td>\n      <td>-0.022203</td>\n      <td>-0.011965</td>\n    </tr>\n    <tr>\n      <th>2019-07-10 21:30:00+08:00</th>\n      <td>0.010237</td>\n      <td>-0.011965</td>\n      <td>-0.001854</td>\n      <td>-0.004640</td>\n    </tr>\n    <tr>\n      <th>2019-07-11 21:30:00+08:00</th>\n      <td>-0.002787</td>\n      <td>-0.004640</td>\n      <td>-0.014996</td>\n      <td>-0.009346</td>\n    </tr>\n    <tr>\n      <th>2019-07-12 21:30:00+08:00</th>\n      <td>0.005650</td>\n      <td>-0.009346</td>\n      <td>-0.001880</td>\n      <td>0.002813</td>\n    </tr>\n    <tr>\n      <th>2019-07-15 21:30:00+08:00</th>\n      <td>0.004693</td>\n      <td>0.002813</td>\n      <td>-0.009407</td>\n      <td>-0.007519</td>\n    </tr>\n  </tbody>\n</table>\n</div>"
     },
     "execution_count": 49,
     "metadata": {},
     "output_type": "execute_result"
    }
   ],
   "source": [
    "rets_on_open.head()"
   ],
   "metadata": {
    "collapsed": false,
    "pycharm": {
     "name": "#%%\n"
    }
   }
  },
  {
   "cell_type": "code",
   "execution_count": 54,
   "outputs": [
    {
     "data": {
      "text/plain": "           pre_oc    pre_cc   next_co   next_cc\npre_oc   1.000000  0.772109  0.171441  0.052491\npre_cc   0.772109  1.000000  0.182268  0.051673\nnext_co  0.171441  0.182268  1.000000  0.471166\nnext_cc  0.052491  0.051673  0.471166  1.000000",
      "text/html": "<div>\n<style scoped>\n    .dataframe tbody tr th:only-of-type {\n        vertical-align: middle;\n    }\n\n    .dataframe tbody tr th {\n        vertical-align: top;\n    }\n\n    .dataframe thead th {\n        text-align: right;\n    }\n</style>\n<table border=\"1\" class=\"dataframe\">\n  <thead>\n    <tr style=\"text-align: right;\">\n      <th></th>\n      <th>pre_oc</th>\n      <th>pre_cc</th>\n      <th>next_co</th>\n      <th>next_cc</th>\n    </tr>\n  </thead>\n  <tbody>\n    <tr>\n      <th>pre_oc</th>\n      <td>1.000000</td>\n      <td>0.772109</td>\n      <td>0.171441</td>\n      <td>0.052491</td>\n    </tr>\n    <tr>\n      <th>pre_cc</th>\n      <td>0.772109</td>\n      <td>1.000000</td>\n      <td>0.182268</td>\n      <td>0.051673</td>\n    </tr>\n    <tr>\n      <th>next_co</th>\n      <td>0.171441</td>\n      <td>0.182268</td>\n      <td>1.000000</td>\n      <td>0.471166</td>\n    </tr>\n    <tr>\n      <th>next_cc</th>\n      <td>0.052491</td>\n      <td>0.051673</td>\n      <td>0.471166</td>\n      <td>1.000000</td>\n    </tr>\n  </tbody>\n</table>\n</div>"
     },
     "execution_count": 54,
     "metadata": {},
     "output_type": "execute_result"
    }
   ],
   "source": [
    "# 考察相关性\n",
    "# 一阶自相关\n",
    "rets_on_close.corr(method='spearman')\n"
   ],
   "metadata": {
    "collapsed": false,
    "pycharm": {
     "name": "#%%\n"
    }
   }
  },
  {
   "cell_type": "code",
   "execution_count": 65,
   "outputs": [
    {
     "data": {
      "text/plain": "           pre_co    pre_oo   next_oc   next_oo\npre_co   1.000000  0.587130 -0.043969  0.017056\npre_oo   0.587130  1.000000 -0.015352  0.048665\nnext_oc -0.043969 -0.015352  1.000000  0.834326\nnext_oo  0.017056  0.048665  0.834326  1.000000",
      "text/html": "<div>\n<style scoped>\n    .dataframe tbody tr th:only-of-type {\n        vertical-align: middle;\n    }\n\n    .dataframe tbody tr th {\n        vertical-align: top;\n    }\n\n    .dataframe thead th {\n        text-align: right;\n    }\n</style>\n<table border=\"1\" class=\"dataframe\">\n  <thead>\n    <tr style=\"text-align: right;\">\n      <th></th>\n      <th>pre_co</th>\n      <th>pre_oo</th>\n      <th>next_oc</th>\n      <th>next_oo</th>\n    </tr>\n  </thead>\n  <tbody>\n    <tr>\n      <th>pre_co</th>\n      <td>1.000000</td>\n      <td>0.587130</td>\n      <td>-0.043969</td>\n      <td>0.017056</td>\n    </tr>\n    <tr>\n      <th>pre_oo</th>\n      <td>0.587130</td>\n      <td>1.000000</td>\n      <td>-0.015352</td>\n      <td>0.048665</td>\n    </tr>\n    <tr>\n      <th>next_oc</th>\n      <td>-0.043969</td>\n      <td>-0.015352</td>\n      <td>1.000000</td>\n      <td>0.834326</td>\n    </tr>\n    <tr>\n      <th>next_oo</th>\n      <td>0.017056</td>\n      <td>0.048665</td>\n      <td>0.834326</td>\n      <td>1.000000</td>\n    </tr>\n  </tbody>\n</table>\n</div>"
     },
     "execution_count": 65,
     "metadata": {},
     "output_type": "execute_result"
    }
   ],
   "source": [
    "rets_on_open.corr(method=\"spearman\")"
   ],
   "metadata": {
    "collapsed": false,
    "pycharm": {
     "name": "#%%\n"
    }
   }
  },
  {
   "cell_type": "code",
   "execution_count": 102,
   "outputs": [
    {
     "data": {
      "text/plain": "                             pre_oc    pre_cc   next_co   next_cc\nvisible_time                                                     \n2019-07-10 04:00:00+08:00 -0.022203  0.024622  0.010237  0.008384\n2019-07-11 04:00:00+08:00 -0.001854  0.008384 -0.002787 -0.017782",
      "text/html": "<div>\n<style scoped>\n    .dataframe tbody tr th:only-of-type {\n        vertical-align: middle;\n    }\n\n    .dataframe tbody tr th {\n        vertical-align: top;\n    }\n\n    .dataframe thead th {\n        text-align: right;\n    }\n</style>\n<table border=\"1\" class=\"dataframe\">\n  <thead>\n    <tr style=\"text-align: right;\">\n      <th></th>\n      <th>pre_oc</th>\n      <th>pre_cc</th>\n      <th>next_co</th>\n      <th>next_cc</th>\n    </tr>\n    <tr>\n      <th>visible_time</th>\n      <th></th>\n      <th></th>\n      <th></th>\n      <th></th>\n    </tr>\n  </thead>\n  <tbody>\n    <tr>\n      <th>2019-07-10 04:00:00+08:00</th>\n      <td>-0.022203</td>\n      <td>0.024622</td>\n      <td>0.010237</td>\n      <td>0.008384</td>\n    </tr>\n    <tr>\n      <th>2019-07-11 04:00:00+08:00</th>\n      <td>-0.001854</td>\n      <td>0.008384</td>\n      <td>-0.002787</td>\n      <td>-0.017782</td>\n    </tr>\n  </tbody>\n</table>\n</div>"
     },
     "execution_count": 102,
     "metadata": {},
     "output_type": "execute_result"
    }
   ],
   "source": [
    "rets_on_close.iloc[0:2]"
   ],
   "metadata": {
    "collapsed": false,
    "pycharm": {
     "name": "#%%\n"
    }
   }
  },
  {
   "cell_type": "code",
   "execution_count": 100,
   "outputs": [
    {
     "data": {
      "text/plain": "visible_time\n2019-08-20 04:00:00+08:00    0.261656\n2019-08-21 04:00:00+08:00   -0.529312\n2019-08-22 04:00:00+08:00   -0.447054\n2019-08-23 04:00:00+08:00   -0.029323\n2019-08-24 04:00:00+08:00   -0.315259\n                               ...   \n2021-01-28 05:00:00+08:00   -0.071518\n2021-01-29 05:00:00+08:00   -0.128523\n2021-01-30 05:00:00+08:00   -0.114499\n2021-02-02 05:00:00+08:00    0.084960\n2021-02-03 05:00:00+08:00    0.028392\nLength: 368, dtype: float64"
     },
     "execution_count": 100,
     "metadata": {},
     "output_type": "execute_result"
    }
   ],
   "source": [
    "# 上面的相关系数表明在过去的一年半的时间内， pre_cc与next_co之间存在比较强的正相关， 但是我们也不应该\n",
    "# 期待这种正相关性会一直持续下去，如果我们将过去的一年半的时间，按照某个周期进行滑动，然后计算每个滑动窗口的相关性，\n",
    "# 根据这个结果数据，我们可以得出相关系数显著的时间比例\n",
    "corrs = rets_on_close['pre_cc'].rolling(window=30).corr(rets_on_close['next_co'])\n",
    "corrs.dropna()"
   ],
   "metadata": {
    "collapsed": false,
    "pycharm": {
     "name": "#%%\n"
    }
   }
  },
  {
   "cell_type": "code",
   "execution_count": 103,
   "outputs": [
    {
     "data": {
      "text/plain": "2019-08-20 04:00:00+08:00    0.261656\n2019-08-21 04:00:00+08:00   -0.529312\n2019-08-22 04:00:00+08:00   -0.447054\n2019-08-23 04:00:00+08:00   -0.029323\n2019-08-24 04:00:00+08:00   -0.315259\n                               ...   \n2021-01-27 05:00:00+08:00   -0.015961\n2021-01-28 05:00:00+08:00   -0.071518\n2021-01-29 05:00:00+08:00   -0.128523\n2021-01-30 05:00:00+08:00   -0.114499\n2021-02-02 05:00:00+08:00    0.084960\nLength: 367, dtype: float64"
     },
     "execution_count": 103,
     "metadata": {},
     "output_type": "execute_result"
    }
   ],
   "source": [
    "def func(chunked_df):\n",
    "    return chunked_df['pre_cc'].corr(chunked_df['next_co'])\n",
    "window=30\n",
    "s = pd.concat([ (pd.Series(func(rets_on_close.iloc[i:i+window]), index=[rets_on_close.index[i+window-1]]))\n",
    "                for i in range(len(rets_on_close)-window)])\n",
    "s"
   ],
   "metadata": {
    "collapsed": false,
    "pycharm": {
     "name": "#%%\n"
    }
   }
  },
  {
   "cell_type": "code",
   "execution_count": 91,
   "outputs": [
    {
     "data": {
      "text/plain": "<AxesSubplot:xlabel='visible_time'>"
     },
     "execution_count": 91,
     "metadata": {},
     "output_type": "execute_result"
    },
    {
     "data": {
      "text/plain": "<Figure size 432x288 with 1 Axes>",
      "image/png": "[encoded data removed]"
     },
     "metadata": {
      "needs_background": "light"
     },
     "output_type": "display_data"
    }
   ],
   "source": [
    "df['close'].plot()"
   ],
   "metadata": {
    "collapsed": false,
    "pycharm": {
     "name": "#%%\n"
    }
   }
  },
  {
   "cell_type": "code",
   "execution_count": 27,
   "outputs": [],
   "source": [
    "# 如上的相关性只是过去较长的一段时间内的样本的相关性，用这个值来估计未来的相关性显然是不合理的， 因为它使用了较长的历史数据，\n",
    "# 很多数据已经与当前的市场环境无关。\n",
    "# 一个想法是将这段较长的样本区间根据某个因子（统计量或者标量）来划分成不同的样本区间， 比如可以使用两根均线的相对大小计算出来的牛熊指标。\n",
    "# 再比如可以根据波动率统计量（统计量都需要选定一段样本长度）。"
   ],
   "metadata": {
    "collapsed": false,
    "pycharm": {
     "name": "#%%\n"
    }
   }
  },
  {
   "cell_type": "code",
   "execution_count": 30,
   "outputs": [
    {
     "data": {
      "text/plain": "0.7707581995906085"
     },
     "execution_count": 30,
     "metadata": {},
     "output_type": "execute_result"
    }
   ],
   "source": [
    "# 下面使用30分钟的收盘价到收盘价的估计量来估计波动率，样本长度为7天。使用辛克莱的方法\n",
    "# 日内波动占总体波动的比率\n",
    "percentage = open_to_close_rets.std() / close_to_close_rets.std()\n",
    "percentage"
   ],
   "metadata": {
    "collapsed": false,
    "pycharm": {
     "name": "#%%\n"
    }
   }
  },
  {
   "cell_type": "code",
   "execution_count": 33,
   "outputs": [
    {
     "name": "stdout",
     "output_type": "stream",
     "text": [
      "(MainThread) 2021-02-08 17:52:53 INFO     time_series.py:364 下载完成， 共下载了33120个数据\n"
     ]
    }
   ],
   "source": [
    "# 下载分钟级别的数据\n",
    "start = pd.Timestamp(\"2019-11-09\", tz='Asia/Shanghai')\n",
    "end = pd.Timestamp(\"2021-02-05\", tz='Asia/Shanghai')\n",
    "command = HistoryDataQueryCommand(start, end, ['SPCE_STK_USD_SMART'])\n",
    "ts_repo: TimeSeriesRepo = BeanContainer.getBean(TimeSeriesRepo)\n",
    "ts: TimeSeries = ts_repo.find_one(\"ibMinBar\")\n",
    "ts.download_data(command)"
   ],
   "metadata": {
    "collapsed": false,
    "pycharm": {
     "name": "#%%\n"
    }
   }
  },
  {
   "cell_type": "code",
   "execution_count": 34,
   "outputs": [
    {
     "data": {
      "text/plain": "                                 co        cc        oc        oo\nvisible_time                                                     \n2019-07-09 04:00:00+08:00  0.046825  0.024622 -0.000958  0.045867\n2019-07-10 04:00:00+08:00  0.010237  0.008384 -0.022203 -0.011965",
      "text/html": "<div>\n<style scoped>\n    .dataframe tbody tr th:only-of-type {\n        vertical-align: middle;\n    }\n\n    .dataframe tbody tr th {\n        vertical-align: top;\n    }\n\n    .dataframe thead th {\n        text-align: right;\n    }\n</style>\n<table border=\"1\" class=\"dataframe\">\n  <thead>\n    <tr style=\"text-align: right;\">\n      <th></th>\n      <th>co</th>\n      <th>cc</th>\n      <th>oc</th>\n      <th>oo</th>\n    </tr>\n    <tr>\n      <th>visible_time</th>\n      <th></th>\n      <th></th>\n      <th></th>\n      <th></th>\n    </tr>\n  </thead>\n  <tbody>\n    <tr>\n      <th>2019-07-09 04:00:00+08:00</th>\n      <td>0.046825</td>\n      <td>0.024622</td>\n      <td>-0.000958</td>\n      <td>0.045867</td>\n    </tr>\n    <tr>\n      <th>2019-07-10 04:00:00+08:00</th>\n      <td>0.010237</td>\n      <td>0.008384</td>\n      <td>-0.022203</td>\n      <td>-0.011965</td>\n    </tr>\n  </tbody>\n</table>\n</div>"
     },
     "execution_count": 34,
     "metadata": {},
     "output_type": "execute_result"
    }
   ],
   "source": [],
   "metadata": {
    "collapsed": false,
    "pycharm": {
     "name": "#%%\n"
    }
   }
  },
  {
   "cell_type": "code",
   "execution_count": null,
   "outputs": [],
   "source": [],
   "metadata": {
    "collapsed": false,
    "pycharm": {
     "name": "#%%\n"
    }
   }
  }
 ],
 "metadata": {
  "kernelspec": {
   "display_name": "Python 3",
   "language": "python",
   "name": "python3"
  },
  "language_info": {
   "codemirror_mode": {
    "name": "ipython",
    "version": 2
   },
   "file_extension": ".py",
   "mimetype": "text/x-python",
   "name": "python",
   "nbconvert_exporter": "python",
   "pygments_lexer": "ipython2",
   "version": "2.7.6"
  }
 },
 "nbformat": 4,
 "nbformat_minor": 0
}