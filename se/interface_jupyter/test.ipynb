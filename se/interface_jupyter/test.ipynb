{
 "cells": [
  {
   "cell_type": "code",
   "execution_count": null,
   "metadata": {
    "collapsed": true
   },
   "outputs": [],
   "source": []
  },
  {
   "cell_type": "code",
   "execution_count": 1,
   "outputs": [],
   "source": [
    "# 添加项目目录\n",
    "import sys\n",
    "from pandas import Series\n",
    "from se.domain2.account.account import AccountRepo, AbstractAccount\n",
    "from se.domain2.domain import BeanContainer\n",
    "if '/Users/zhang/PycharmProjects/strategy_engine_v2' not in sys.path:\n",
    "    sys.path.append(\"/Users/zhang/PycharmProjects/strategy_engine_v2\")"
   ],
   "metadata": {
    "collapsed": false,
    "pycharm": {
     "name": "#%%\n"
    }
   }
  },
  {
   "cell_type": "code",
   "execution_count": 6,
   "outputs": [],
   "source": [
    "import se.infras\n",
    "repo:AccountRepo = BeanContainer.getBean(AccountRepo)\n",
    "acc: AbstractAccount = repo.find_one(\"test32\")\n",
    "se = Series(acc.history_net_value)\n",
    "\n"
   ],
   "metadata": {
    "collapsed": false,
    "pycharm": {
     "name": "#%%\n"
    }
   }
  },
  {
   "cell_type": "code",
   "execution_count": 7,
   "outputs": [
    {
     "data": {
      "text/plain": "<AxesSubplot:>"
     },
     "execution_count": 7,
     "metadata": {},
     "output_type": "execute_result"
    },
    {
     "data": {
      "text/plain": "<Figure size 432x288 with 1 Axes>",
      "image/png": "[encoded data removed]"
     },
     "metadata": {
      "needs_background": "light"
     },
     "output_type": "display_data"
    }
   ],
   "source": [
    "se.plot()"
   ],
   "metadata": {
    "collapsed": false,
    "pycharm": {
     "name": "#%%\n"
    }
   }
  },
  {
   "cell_type": "code",
   "execution_count": 9,
   "outputs": [
    {
     "data": {
      "text/plain": "[<se.domain2.account.account.Operation at 0x7f9631d27b80>,\n <se.domain2.account.account.Operation at 0x7f963087ed00>,\n <se.domain2.account.account.Operation at 0x7f963087e370>,\n <se.domain2.account.account.Operation at 0x7f963087e490>,\n <se.domain2.account.account.Operation at 0x7f963270acd0>,\n <se.domain2.account.account.Operation at 0x7f963270afd0>,\n <se.domain2.account.account.Operation at 0x7f963270af70>,\n <se.domain2.account.account.Operation at 0x7f963270afa0>,\n <se.domain2.account.account.Operation at 0x7f963270ae80>,\n <se.domain2.account.account.Operation at 0x7f963270aee0>,\n <se.domain2.account.account.Operation at 0x7f963270aeb0>,\n <se.domain2.account.account.Operation at 0x7f963270aa90>,\n <se.domain2.account.account.Operation at 0x7f963270ae20>,\n <se.domain2.account.account.Operation at 0x7f963270adc0>,\n <se.domain2.account.account.Operation at 0x7f963270aa30>,\n <se.domain2.account.account.Operation at 0x7f963270a7f0>,\n <se.domain2.account.account.Operation at 0x7f963270a910>,\n <se.domain2.account.account.Operation at 0x7f963086d160>,\n <se.domain2.account.account.Operation at 0x7f963086daf0>,\n <se.domain2.account.account.Operation at 0x7f963086d550>,\n <se.domain2.account.account.Operation at 0x7f963086d1c0>,\n <se.domain2.account.account.Operation at 0x7f963086db80>,\n <se.domain2.account.account.Operation at 0x7f963086de20>,\n <se.domain2.account.account.Operation at 0x7f963086db20>,\n <se.domain2.account.account.Operation at 0x7f9630b3e9a0>,\n <se.domain2.account.account.Operation at 0x7f9630b3e880>,\n <se.domain2.account.account.Operation at 0x7f9630b3e520>,\n <se.domain2.account.account.Operation at 0x7f9630b3e430>]"
     },
     "execution_count": 9,
     "metadata": {},
     "output_type": "execute_result"
    }
   ],
   "source": [
    "operations = acc.history_operations()\n",
    "operations"
   ],
   "metadata": {
    "collapsed": false,
    "pycharm": {
     "name": "#%%\n"
    }
   }
  },
  {
   "cell_type": "code",
   "execution_count": 8,
   "outputs": [
    {
     "data": {
      "text/plain": "2020-11-20 21:30:00+08:00    682212.0000\n2020-11-23 21:30:00+08:00    708876.7500\n2020-11-24 21:30:00+08:00    728436.9375\n2020-11-25 21:30:00+08:00    693295.3750\n2020-11-27 18:30:00+08:00    687071.5625\ndtype: float64"
     },
     "execution_count": 8,
     "metadata": {},
     "output_type": "execute_result"
    }
   ],
   "source": [
    "se.tail()"
   ],
   "metadata": {
    "collapsed": false,
    "pycharm": {
     "name": "#%%\n"
    }
   }
  },
  {
   "cell_type": "code",
   "execution_count": null,
   "outputs": [],
   "source": [],
   "metadata": {
    "collapsed": false,
    "pycharm": {
     "name": "#%%\n"
    }
   }
  }
 ],
 "metadata": {
  "kernelspec": {
   "display_name": "Python 3",
   "language": "python",
   "name": "python3"
  },
  "language_info": {
   "codemirror_mode": {
    "name": "ipython",
    "version": 2
   },
   "file_extension": ".py",
   "mimetype": "text/x-python",
   "name": "python",
   "nbconvert_exporter": "python",
   "pygments_lexer": "ipython2",
   "version": "2.7.6"
  }
 },
 "nbformat": 4,
 "nbformat_minor": 0
}