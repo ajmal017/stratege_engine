{
 "cells": [
  {
   "cell_type": "code",
   "execution_count": 1,
   "metadata": {
    "pycharm": {
     "name": "#%%\n"
    }
   },
   "outputs": [],
   "source": [
    "# 添加项目目录\n",
    "import sys\n",
    "if '/Users/zhang/PycharmProjects/strategy_engine_v2' not in sys.path:\n",
    "    sys.path.append(\"/Users/zhang/PycharmProjects/strategy_engine_v2\")\n"
   ]
  },
  {
   "cell_type": "code",
   "execution_count": 2,
   "outputs": [
    {
     "name": "stderr",
     "output_type": "stream",
     "text": [
      "(MainThread) 210112_15:40:09.257 WARNING connection.py:101 Cluster.__init__ called with contact_points specified, but no load_balancing_policy. In the next major version, this will raise an error; please specify a load-balancing policy. (contact_points = ['127.0.0.1'], lbp = None)\n",
      "(MainThread) 210112_15:40:09.268 INFO policies.py:289 Using datacenter 'datacenter1' for DCAwareRoundRobinPolicy (via host '127.0.0.1:9042'); if incorrect, please specify a local_dc to the constructor, or limit contact points to local cluster nodes\n"
     ]
    }
   ],
   "source": [
    "\n",
    "from se.infras.models import *\n",
    "account = AccountModel.objects(name='test1').first()"
   ],
   "metadata": {
    "collapsed": false,
    "pycharm": {
     "name": "#%%\n"
    }
   }
  },
  {
   "cell_type": "code",
   "execution_count": 3,
   "outputs": [
    {
     "data": {
      "text/plain": "AccountModel(name='test1', cash=10000.0, initial_cash=10000.0, positions={'CCL_STK_USD_SMART': 107.0}, history_net_value={}, current_operation=<se.infras.models.OperationModel object at 0x7fb88efe29d0>, history_operations=[<se.infras.models.OperationModel object at 0x7fb88f007910>, <se.infras.models.OperationModel object at 0x7fb88f007cd0>, <se.infras.models.OperationModel object at 0x7fb88f01c8e0>, <se.infras.models.OperationModel object at 0x7fb88f0347c0>, <se.infras.models.OperationModel object at 0x7fb88f062ee0>, <se.infras.models.OperationModel object at 0x7fb88f077880>, <se.infras.models.OperationModel object at 0x7fb88f072610>, <se.infras.models.OperationModel object at 0x7fb88f001220>, <se.infras.models.OperationModel object at 0x7fb88ef260d0>, <se.infras.models.OperationModel object at 0x7fb88f019940>, <se.infras.models.OperationModel object at 0x7fb88f06ea00>, <se.infras.models.OperationModel object at 0x7fb88f09cc40>, <se.infras.models.OperationModel object at 0x7fb88f0b2e80>, <se.infras.models.OperationModel object at 0x7fb88f0e8a00>, <se.infras.models.OperationModel object at 0x7fb88f0fb8b0>, <se.infras.models.OperationModel object at 0x7fb88f112fa0>, <se.infras.models.OperationModel object at 0x7fb88f10b9d0>, <se.infras.models.OperationModel object at 0x7fb88f07fb20>])"
     },
     "execution_count": 3,
     "metadata": {},
     "output_type": "execute_result"
    }
   ],
   "source": [
    "account"
   ],
   "metadata": {
    "collapsed": false,
    "pycharm": {
     "name": "#%%\n"
    }
   }
  },
  {
   "cell_type": "code",
   "execution_count": null,
   "outputs": [],
   "source": [],
   "metadata": {
    "collapsed": false,
    "pycharm": {
     "name": "#%%\n"
    }
   }
  },
  {
   "cell_type": "code",
   "execution_count": null,
   "metadata": {
    "pycharm": {
     "name": "#%%\n"
    }
   },
   "outputs": [],
   "source": []
  }
 ],
 "metadata": {
  "kernelspec": {
   "display_name": "Python 3",
   "language": "python",
   "name": "python3"
  },
  "language_info": {
   "codemirror_mode": {
    "name": "ipython",
    "version": 3
   },
   "file_extension": ".py",
   "mimetype": "text/x-python",
   "name": "python",
   "nbconvert_exporter": "python",
   "pygments_lexer": "ipython3",
   "version": "3.8.6"
  }
 },
 "nbformat": 4,
 "nbformat_minor": 1
}