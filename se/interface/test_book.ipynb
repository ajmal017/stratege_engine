{
 "cells": [
  {
   "cell_type": "code",
   "execution_count": 6,
   "metadata": {},
   "outputs": [
    {
     "ename": "WrongArgElementTypeError",
     "evalue": "wrong type for element 0 of arg binding_specs: expected subclass of BindingSpec but got type",
     "output_type": "error",
     "traceback": [
      "\u001B[0;31m---------------------------------------------------------------------------\u001B[0m",
      "\u001B[0;31mWrongArgElementTypeError\u001B[0m                  Traceback (most recent call last)",
      "\u001B[0;32m<ipython-input-6-093f8fff4b1e>\u001B[0m in \u001B[0;36m<module>\u001B[0;34m\u001B[0m\n\u001B[1;32m      1\u001B[0m \u001B[0;32mfrom\u001B[0m \u001B[0mse\u001B[0m \u001B[0;32mimport\u001B[0m \u001B[0mconfig\u001B[0m\u001B[0;34m\u001B[0m\u001B[0;34m\u001B[0m\u001B[0m\n\u001B[1;32m      2\u001B[0m \u001B[0;32mimport\u001B[0m \u001B[0mpandas\u001B[0m \u001B[0;32mas\u001B[0m \u001B[0mpd\u001B[0m\u001B[0;34m\u001B[0m\u001B[0;34m\u001B[0m\u001B[0m\n\u001B[0;32m----> 3\u001B[0;31m \u001B[0mconfig\u001B[0m\u001B[0;34m(\u001B[0m\u001B[0;34m\"config.ini\"\u001B[0m\u001B[0;34m)\u001B[0m\u001B[0;34m\u001B[0m\u001B[0;34m\u001B[0m\u001B[0m\n\u001B[0m\u001B[1;32m      4\u001B[0m \u001B[0;32mfrom\u001B[0m \u001B[0mse\u001B[0m \u001B[0;32mimport\u001B[0m \u001B[0mts_app\u001B[0m\u001B[0;34m\u001B[0m\u001B[0;34m\u001B[0m\u001B[0m\n\u001B[1;32m      5\u001B[0m \u001B[0;32mfrom\u001B[0m \u001B[0mse\u001B[0m\u001B[0;34m.\u001B[0m\u001B[0mdomain2\u001B[0m\u001B[0;34m.\u001B[0m\u001B[0mtime_series\u001B[0m\u001B[0;34m.\u001B[0m\u001B[0mtime_series\u001B[0m \u001B[0;32mimport\u001B[0m \u001B[0mHistoryDataQueryCommand\u001B[0m\u001B[0;34m\u001B[0m\u001B[0;34m\u001B[0m\u001B[0m\n",
      "\u001B[0;32m~/PycharmProjects/strategy_engine_v2/se/__init__.py\u001B[0m in \u001B[0;36mconfig\u001B[0;34m(file_name)\u001B[0m\n\u001B[1;32m     51\u001B[0m             \u001B[0mbind\u001B[0m\u001B[0;34m(\u001B[0m\u001B[0;34m\"ts_repo\"\u001B[0m\u001B[0;34m,\u001B[0m \u001B[0mto_class\u001B[0m\u001B[0;34m=\u001B[0m\u001B[0mTimeSeriesRepoImpl\u001B[0m\u001B[0;34m,\u001B[0m \u001B[0min_scope\u001B[0m\u001B[0;34m=\u001B[0m\u001B[0mpinject\u001B[0m\u001B[0;34m.\u001B[0m\u001B[0mSINGLETON\u001B[0m\u001B[0;34m)\u001B[0m\u001B[0;34m\u001B[0m\u001B[0;34m\u001B[0m\u001B[0m\n\u001B[1;32m     52\u001B[0m \u001B[0;34m\u001B[0m\u001B[0m\n\u001B[0;32m---> 53\u001B[0;31m     \u001B[0mobj_graph\u001B[0m \u001B[0;34m=\u001B[0m \u001B[0mpinject\u001B[0m\u001B[0;34m.\u001B[0m\u001B[0mnew_object_graph\u001B[0m\u001B[0;34m(\u001B[0m\u001B[0mbinding_specs\u001B[0m\u001B[0;34m=\u001B[0m\u001B[0;34m[\u001B[0m\u001B[0mMyBindingSpec\u001B[0m\u001B[0;34m(\u001B[0m\u001B[0;34m)\u001B[0m\u001B[0;34m]\u001B[0m\u001B[0;34m,\u001B[0m \u001B[0monly_use_explicit_bindings\u001B[0m\u001B[0;34m=\u001B[0m\u001B[0;32mTrue\u001B[0m\u001B[0;34m)\u001B[0m\u001B[0;34m\u001B[0m\u001B[0;34m\u001B[0m\u001B[0m\n\u001B[0m\u001B[1;32m     54\u001B[0m     \u001B[0mts_app\u001B[0m \u001B[0;34m=\u001B[0m \u001B[0mobj_graph\u001B[0m\u001B[0;34m.\u001B[0m\u001B[0mprovide\u001B[0m\u001B[0;34m(\u001B[0m\u001B[0mTimeSeriesApp\u001B[0m\u001B[0;34m)\u001B[0m\u001B[0;34m\u001B[0m\u001B[0;34m\u001B[0m\u001B[0m\n\u001B[1;32m     55\u001B[0m     \u001B[0mts_repo\u001B[0m \u001B[0;34m=\u001B[0m \u001B[0mobj_graph\u001B[0m\u001B[0;34m.\u001B[0m\u001B[0mprovide\u001B[0m\u001B[0;34m(\u001B[0m\u001B[0mTimeSeriesRepo\u001B[0m\u001B[0;34m)\u001B[0m\u001B[0;34m\u001B[0m\u001B[0;34m\u001B[0m\u001B[0m\n",
      "\u001B[0;32m~/opt/miniconda3/envs/strategy_engine_v2/lib/python3.8/site-packages/pinject/object_graph.py\u001B[0m in \u001B[0;36mnew_object_graph\u001B[0;34m(modules, classes, binding_specs, only_use_explicit_bindings, allow_injecting_none, configure_method_name, dependencies_method_name, get_arg_names_from_class_name, get_arg_names_from_provider_fn_name, id_to_scope, is_scope_usable_from_scope, use_short_stack_traces)\u001B[0m\n\u001B[1;32m    152\u001B[0m     \u001B[0;32mexcept\u001B[0m \u001B[0merrors\u001B[0m\u001B[0;34m.\u001B[0m\u001B[0mError\u001B[0m \u001B[0;32mas\u001B[0m \u001B[0me\u001B[0m\u001B[0;34m:\u001B[0m\u001B[0;34m\u001B[0m\u001B[0;34m\u001B[0m\u001B[0m\n\u001B[1;32m    153\u001B[0m         \u001B[0;32mif\u001B[0m \u001B[0muse_short_stack_traces\u001B[0m\u001B[0;34m:\u001B[0m\u001B[0;34m\u001B[0m\u001B[0;34m\u001B[0m\u001B[0m\n\u001B[0;32m--> 154\u001B[0;31m             \u001B[0;32mraise\u001B[0m \u001B[0me\u001B[0m\u001B[0;34m\u001B[0m\u001B[0;34m\u001B[0m\u001B[0m\n\u001B[0m\u001B[1;32m    155\u001B[0m         \u001B[0;32melse\u001B[0m\u001B[0;34m:\u001B[0m\u001B[0;34m\u001B[0m\u001B[0;34m\u001B[0m\u001B[0m\n\u001B[1;32m    156\u001B[0m             \u001B[0;32mraise\u001B[0m\u001B[0;34m\u001B[0m\u001B[0;34m\u001B[0m\u001B[0m\n",
      "\u001B[0;32m~/opt/miniconda3/envs/strategy_engine_v2/lib/python3.8/site-packages/pinject/object_graph.py\u001B[0m in \u001B[0;36mnew_object_graph\u001B[0;34m(modules, classes, binding_specs, only_use_explicit_bindings, allow_injecting_none, configure_method_name, dependencies_method_name, get_arg_names_from_class_name, get_arg_names_from_provider_fn_name, id_to_scope, is_scope_usable_from_scope, use_short_stack_traces)\u001B[0m\n\u001B[1;32m     81\u001B[0m             \u001B[0msupport\u001B[0m\u001B[0;34m.\u001B[0m\u001B[0mverify_class_types\u001B[0m\u001B[0;34m(\u001B[0m\u001B[0mclasses\u001B[0m\u001B[0;34m,\u001B[0m \u001B[0;34m'classes'\u001B[0m\u001B[0;34m)\u001B[0m\u001B[0;34m\u001B[0m\u001B[0;34m\u001B[0m\u001B[0m\n\u001B[1;32m     82\u001B[0m         \u001B[0;32mif\u001B[0m \u001B[0mbinding_specs\u001B[0m \u001B[0;32mis\u001B[0m \u001B[0;32mnot\u001B[0m \u001B[0;32mNone\u001B[0m\u001B[0;34m:\u001B[0m\u001B[0;34m\u001B[0m\u001B[0;34m\u001B[0m\u001B[0m\n\u001B[0;32m---> 83\u001B[0;31m             support.verify_subclasses(\n\u001B[0m\u001B[1;32m     84\u001B[0m                 binding_specs, bindings.BindingSpec, 'binding_specs')\n\u001B[1;32m     85\u001B[0m         \u001B[0;32mif\u001B[0m \u001B[0mget_arg_names_from_class_name\u001B[0m \u001B[0;32mis\u001B[0m \u001B[0;32mnot\u001B[0m \u001B[0;32mNone\u001B[0m\u001B[0;34m:\u001B[0m\u001B[0;34m\u001B[0m\u001B[0;34m\u001B[0m\u001B[0m\n",
      "\u001B[0;32m~/opt/miniconda3/envs/strategy_engine_v2/lib/python3.8/site-packages/pinject/support.py\u001B[0m in \u001B[0;36mverify_subclasses\u001B[0;34m(seq, required_superclass, arg_name)\u001B[0m\n\u001B[1;32m     68\u001B[0m     \u001B[0;32mfor\u001B[0m \u001B[0midx\u001B[0m\u001B[0;34m,\u001B[0m \u001B[0melt\u001B[0m \u001B[0;32min\u001B[0m \u001B[0menumerate\u001B[0m\u001B[0;34m(\u001B[0m\u001B[0mseq\u001B[0m\u001B[0;34m)\u001B[0m\u001B[0;34m:\u001B[0m\u001B[0;34m\u001B[0m\u001B[0;34m\u001B[0m\u001B[0m\n\u001B[1;32m     69\u001B[0m         \u001B[0;32mif\u001B[0m \u001B[0;32mnot\u001B[0m \u001B[0misinstance\u001B[0m\u001B[0;34m(\u001B[0m\u001B[0melt\u001B[0m\u001B[0;34m,\u001B[0m \u001B[0mrequired_superclass\u001B[0m\u001B[0;34m)\u001B[0m\u001B[0;34m:\u001B[0m\u001B[0;34m\u001B[0m\u001B[0;34m\u001B[0m\u001B[0m\n\u001B[0;32m---> 70\u001B[0;31m             raise errors.WrongArgElementTypeError(\n\u001B[0m\u001B[1;32m     71\u001B[0m                 \u001B[0marg_name\u001B[0m\u001B[0;34m,\u001B[0m \u001B[0midx\u001B[0m\u001B[0;34m,\u001B[0m\u001B[0;34m\u001B[0m\u001B[0;34m\u001B[0m\u001B[0m\n\u001B[1;32m     72\u001B[0m                 \u001B[0;34m'subclass of {0}'\u001B[0m\u001B[0;34m.\u001B[0m\u001B[0mformat\u001B[0m\u001B[0;34m(\u001B[0m\u001B[0mrequired_superclass\u001B[0m\u001B[0;34m.\u001B[0m\u001B[0m__name__\u001B[0m\u001B[0;34m)\u001B[0m\u001B[0;34m,\u001B[0m\u001B[0;34m\u001B[0m\u001B[0;34m\u001B[0m\u001B[0m\n",
      "\u001B[0;31mWrongArgElementTypeError\u001B[0m: wrong type for element 0 of arg binding_specs: expected subclass of BindingSpec but got type"
     ]
    }
   ],
   "source": [
    "from se import config\n",
    "import pandas as pd\n",
    "config(\"config.ini\")\n",
    "from se import ts_app\n",
    "from se.domain2.time_series.time_series import HistoryDataQueryCommand\n",
    "start = pd.Timestamp(\"2020-01-01\")\n",
    "end = pd.Timestamp(\"2020-01-30\")\n",
    "command = HistoryDataQueryCommand(start,end, ['TSLA_STK_USD_SMART'])\n",
    "ts_app.history_data(\"ib_min_bar\", command)\n",
    "ts_app.download_data(\"ib_min_bar\", command)"
   ]
  },
  {
   "cell_type": "code",
   "execution_count": 1,
   "metadata": {
    "pycharm": {
     "name": "#%%\n"
    }
   },
   "outputs": [
    {
     "ename": "WrongArgTypeError",
     "evalue": "wrong type for arg arg_names: expected sequence (of arg names) but got function",
     "output_type": "error",
     "traceback": [
      "\u001B[0;31m---------------------------------------------------------------------------\u001B[0m",
      "\u001B[0;31mWrongArgTypeError\u001B[0m                         Traceback (most recent call last)",
      "\u001B[0;32m<ipython-input-1-39097aa35895>\u001B[0m in \u001B[0;36m<module>\u001B[0;34m\u001B[0m\n\u001B[0;32m----> 1\u001B[0;31m \u001B[0;32mfrom\u001B[0m \u001B[0mse\u001B[0m\u001B[0;34m.\u001B[0m\u001B[0mdomain2\u001B[0m\u001B[0;34m.\u001B[0m\u001B[0mpipeline\u001B[0m\u001B[0;34m.\u001B[0m\u001B[0mpipeline\u001B[0m \u001B[0;32mimport\u001B[0m \u001B[0;34m*\u001B[0m\u001B[0;34m\u001B[0m\u001B[0;34m\u001B[0m\u001B[0m\n\u001B[0m\u001B[1;32m      2\u001B[0m \u001B[0mstart\u001B[0m \u001B[0;34m=\u001B[0m \u001B[0mpd\u001B[0m\u001B[0;34m.\u001B[0m\u001B[0mTimestamp\u001B[0m\u001B[0;34m(\u001B[0m\u001B[0;34m\"2010-01-01\"\u001B[0m\u001B[0;34m)\u001B[0m\u001B[0;34m\u001B[0m\u001B[0;34m\u001B[0m\u001B[0m\n\u001B[1;32m      3\u001B[0m \u001B[0mend\u001B[0m \u001B[0;34m=\u001B[0m \u001B[0mpd\u001B[0m\u001B[0;34m.\u001B[0m\u001B[0mTimestamp\u001B[0m\u001B[0;34m(\u001B[0m\u001B[0;34m\"2010-01-30\"\u001B[0m\u001B[0;34m)\u001B[0m\u001B[0;34m\u001B[0m\u001B[0;34m\u001B[0m\u001B[0m\n\u001B[1;32m      4\u001B[0m \u001B[0mdomain\u001B[0m \u001B[0;34m=\u001B[0m \u001B[0mDomain\u001B[0m\u001B[0;34m(\u001B[0m\u001B[0;34m[\u001B[0m\u001B[0;34m'CCL_STK_USD_SMART'\u001B[0m\u001B[0;34m,\u001B[0m\u001B[0;34m'TSLA_STK_USD_SMART'\u001B[0m\u001B[0;34m]\u001B[0m\u001B[0;34m,\u001B[0m \u001B[0mstart\u001B[0m\u001B[0;34m,\u001B[0m \u001B[0mend\u001B[0m\u001B[0;34m)\u001B[0m\u001B[0;34m\u001B[0m\u001B[0;34m\u001B[0m\u001B[0m\n\u001B[1;32m      5\u001B[0m columns = [LoadableColumn(\"ibMinBar\", \"close\"),\n",
      "\u001B[0;32m~/PycharmProjects/strategy_engine_v2/se/__init__.py\u001B[0m in \u001B[0;36m<module>\u001B[0;34m\u001B[0m\n\u001B[1;32m      9\u001B[0m \u001B[0;32mfrom\u001B[0m \u001B[0mse\u001B[0m\u001B[0;34m.\u001B[0m\u001B[0mdomain\u001B[0m\u001B[0;34m.\u001B[0m\u001B[0mengine\u001B[0m \u001B[0;32mimport\u001B[0m \u001B[0mStrategyEngine\u001B[0m\u001B[0;34m\u001B[0m\u001B[0;34m\u001B[0m\u001B[0m\n\u001B[1;32m     10\u001B[0m \u001B[0;32mfrom\u001B[0m \u001B[0mse\u001B[0m\u001B[0;34m.\u001B[0m\u001B[0mdomain2\u001B[0m\u001B[0;34m.\u001B[0m\u001B[0mtime_series\u001B[0m\u001B[0;34m.\u001B[0m\u001B[0mtime_series\u001B[0m \u001B[0;32mimport\u001B[0m \u001B[0mTimeSeriesRepo\u001B[0m\u001B[0;34m\u001B[0m\u001B[0;34m\u001B[0m\u001B[0m\n\u001B[0;32m---> 11\u001B[0;31m \u001B[0;32mfrom\u001B[0m \u001B[0mse\u001B[0m\u001B[0;34m.\u001B[0m\u001B[0minfras\u001B[0m\u001B[0;34m.\u001B[0m\u001B[0mrepos\u001B[0m \u001B[0;32mimport\u001B[0m \u001B[0mTimeSeriesRepoImpl\u001B[0m\u001B[0;34m\u001B[0m\u001B[0;34m\u001B[0m\u001B[0m\n\u001B[0m\u001B[1;32m     12\u001B[0m \u001B[0;32mfrom\u001B[0m \u001B[0mse\u001B[0m\u001B[0;34m.\u001B[0m\u001B[0mservice\u001B[0m\u001B[0;34m.\u001B[0m\u001B[0mapp\u001B[0m \u001B[0;32mimport\u001B[0m \u001B[0mTimeSeriesApp\u001B[0m\u001B[0;34m\u001B[0m\u001B[0;34m\u001B[0m\u001B[0m\n\u001B[1;32m     13\u001B[0m \u001B[0;34m\u001B[0m\u001B[0m\n",
      "\u001B[0;32m~/PycharmProjects/strategy_engine_v2/se/infras/repos.py\u001B[0m in \u001B[0;36m<module>\u001B[0;34m\u001B[0m\n\u001B[1;32m      5\u001B[0m \u001B[0;34m\u001B[0m\u001B[0m\n\u001B[1;32m      6\u001B[0m \u001B[0;34m\u001B[0m\u001B[0m\n\u001B[0;32m----> 7\u001B[0;31m \u001B[0;32mclass\u001B[0m \u001B[0mTimeSeriesRepoImpl\u001B[0m\u001B[0;34m(\u001B[0m\u001B[0mTimeSeriesRepo\u001B[0m\u001B[0;34m)\u001B[0m\u001B[0;34m:\u001B[0m\u001B[0;34m\u001B[0m\u001B[0;34m\u001B[0m\u001B[0m\n\u001B[0m\u001B[1;32m      8\u001B[0m     \u001B[0;32mdef\u001B[0m \u001B[0mfind_one\u001B[0m\u001B[0;34m(\u001B[0m\u001B[0mself\u001B[0m\u001B[0;34m,\u001B[0m \u001B[0mname\u001B[0m\u001B[0;34m:\u001B[0m \u001B[0mstr\u001B[0m\u001B[0;34m)\u001B[0m\u001B[0;34m:\u001B[0m\u001B[0;34m\u001B[0m\u001B[0;34m\u001B[0m\u001B[0m\n\u001B[1;32m      9\u001B[0m         \u001B[0;32mpass\u001B[0m\u001B[0;34m\u001B[0m\u001B[0;34m\u001B[0m\u001B[0m\n",
      "\u001B[0;32m~/PycharmProjects/strategy_engine_v2/se/infras/repos.py\u001B[0m in \u001B[0;36mTimeSeriesRepoImpl\u001B[0;34m()\u001B[0m\n\u001B[1;32m     10\u001B[0m \u001B[0;34m\u001B[0m\u001B[0m\n\u001B[1;32m     11\u001B[0m     \u001B[0;34m@\u001B[0m\u001B[0minject\u001B[0m\u001B[0;34m\u001B[0m\u001B[0;34m\u001B[0m\u001B[0m\n\u001B[0;32m---> 12\u001B[0;31m     \u001B[0;32mdef\u001B[0m \u001B[0m__init__\u001B[0m\u001B[0;34m(\u001B[0m\u001B[0mself\u001B[0m\u001B[0;34m,\u001B[0m \u001B[0mconfig\u001B[0m\u001B[0;34m:\u001B[0m \u001B[0mConfigParser\u001B[0m\u001B[0;34m)\u001B[0m\u001B[0;34m:\u001B[0m\u001B[0;34m\u001B[0m\u001B[0;34m\u001B[0m\u001B[0m\n\u001B[0m\u001B[1;32m     13\u001B[0m         \u001B[0mself\u001B[0m\u001B[0;34m.\u001B[0m\u001B[0mconfig\u001B[0m \u001B[0;34m=\u001B[0m \u001B[0mconfig\u001B[0m\u001B[0;34m\u001B[0m\u001B[0;34m\u001B[0m\u001B[0m\n",
      "\u001B[0;32m~/opt/miniconda3/envs/strategy_engine_v2/lib/python3.8/site-packages/pinject/decorators.py\u001B[0m in \u001B[0;36minject\u001B[0;34m(arg_names, all_except)\u001B[0m\n\u001B[1;32m     86\u001B[0m             if (not support.is_sequence(arg_value) or\n\u001B[1;32m     87\u001B[0m                     support.is_string(arg_value)):\n\u001B[0;32m---> 88\u001B[0;31m                 raise errors.WrongArgTypeError(\n\u001B[0m\u001B[1;32m     89\u001B[0m                     arg, 'sequence (of arg names)', type(arg_value).__name__)\n\u001B[1;32m     90\u001B[0m     \u001B[0;32mif\u001B[0m \u001B[0marg_names\u001B[0m \u001B[0;32mis\u001B[0m \u001B[0;32mNone\u001B[0m \u001B[0;32mand\u001B[0m \u001B[0mall_except\u001B[0m \u001B[0;32mis\u001B[0m \u001B[0;32mNone\u001B[0m\u001B[0;34m:\u001B[0m\u001B[0;34m\u001B[0m\u001B[0;34m\u001B[0m\u001B[0m\n",
      "\u001B[0;31mWrongArgTypeError\u001B[0m: wrong type for arg arg_names: expected sequence (of arg names) but got function"
     ]
    }
   ],
   "source": [
    "from se.domain2.pipeline.pipeline import *\n",
    "start = pd.Timestamp(\"2010-01-01\")\n",
    "end = pd.Timestamp(\"2010-01-30\")\n",
    "domain = Domain(['CCL_STK_USD_SMART','TSLA_STK_USD_SMART'], start, end)\n",
    "columns = [LoadableColumn(\"ibMinBar\", \"close\"),\n",
    "           MovingAverageComputableColumn(\"MA5\", [LoadableColumn(\"ibMinBar\", \"close\")], 5)]\n",
    "pipeline = Pipeline(domain, columns=columns)\n",
    "run_pipeline(pipeline)"
   ]
  },
  {
   "cell_type": "code",
   "execution_count": null,
   "metadata": {
    "pycharm": {
     "name": "#%%\n"
    }
   },
   "outputs": [],
   "source": []
  }
 ],
 "metadata": {
  "kernelspec": {
   "display_name": "Python 3",
   "language": "python",
   "name": "python3"
  },
  "language_info": {
   "codemirror_mode": {
    "name": "ipython",
    "version": 3
   },
   "file_extension": ".py",
   "mimetype": "text/x-python",
   "name": "python",
   "nbconvert_exporter": "python",
   "pygments_lexer": "ipython3",
   "version": "3.8.6"
  }
 },
 "nbformat": 4,
 "nbformat_minor": 1
}