{
 "cells": [
  {
   "cell_type": "code",
   "execution_count": 2,
   "metadata": {
    "pycharm": {
     "name": "#%%\n"
    }
   },
   "outputs": [
    {
     "name": "stderr",
     "output_type": "stream",
     "text": [
      "(MainThread) 210121_19:26:11.008 WARNING connection.py:101 Cluster.__init__ called with contact_points specified, but no load_balancing_policy. In the next major version, this will raise an error; please specify a load-balancing policy. (contact_points = ['127.0.0.1'], lbp = None)\n",
      "(MainThread) 210121_19:26:11.021 INFO policies.py:289 Using datacenter 'datacenter1' for DCAwareRoundRobinPolicy (via host '127.0.0.1:9042'); if incorrect, please specify a local_dc to the constructor, or limit contact points to local cluster nodes\n"
     ]
    }
   ],
   "source": [
    "# 添加项目目录\n",
    "import sys\n",
    "from se.infras.models import AccountModel\n",
    "if '/Users/zhang/PycharmProjects/strategy_engine_v2' not in sys.path:\n",
    "    sys.path.append(\"/Users/zhang/PycharmProjects/strategy_engine_v2\")\n"
   ]
  },
  {
   "cell_type": "code",
   "execution_count": 9,
   "outputs": [
    {
     "name": "stdout",
     "output_type": "stream",
     "text": [
      "profit_rate:0.696078431372549, profit_count:71, loss_rate:0.28431372549019607, loss_count:29, profit_mean0.03872231118131305, loss_mean:-0.02939775071979978\n"
     ]
    }
   ],
   "source": [
    "import pandas as pd\n",
    "import numpy as np\n",
    "account = AccountModel.objects(name='test22').first()\n",
    "history_net_value_series = pd.Series(account.history_net_value)\n",
    "pnls = [op.pnl for op in account.history_operations]\n",
    "pnls_p = [(op.pnl)/(op.start_cash) for op in account.history_operations]\n",
    "# 胜率\n",
    "profits = np.array(pnls_p)[np.array(pnls_p) > 0]\n",
    "loss =  np.array(pnls_p)[np.array(pnls_p) < 0]\n",
    "p_rate = len(profits) / len(pnls_p)\n",
    "l_rate = len(loss) / len(pnls_p)\n",
    "# 平均盈利\n",
    "p_mean = profits.mean()\n",
    "l_mean = loss.mean()\n",
    "print(\"profit_rate:{}, profit_count:{}, loss_rate:{}, loss_count:{}, profit_mean{}, loss_mean:{}\"\n",
    "      .format(p_rate, len(profits), l_rate, len(loss), p_mean, l_mean))\n"
   ],
   "metadata": {
    "collapsed": false,
    "pycharm": {
     "name": "#%%\n"
    }
   }
  },
  {
   "cell_type": "code",
   "execution_count": 10,
   "outputs": [
    {
     "data": {
      "text/plain": "<AxesSubplot:>"
     },
     "execution_count": 10,
     "metadata": {},
     "output_type": "execute_result"
    },
    {
     "data": {
      "text/plain": "<Figure size 432x288 with 1 Axes>",
      "image/png": "[encoded data removed]"
     },
     "metadata": {
      "needs_background": "light"
     },
     "output_type": "display_data"
    }
   ],
   "source": [
    "history_net_value_series.plot()"
   ],
   "metadata": {
    "collapsed": false,
    "pycharm": {
     "name": "#%%\n"
    }
   }
  },
  {
   "cell_type": "code",
   "execution_count": null,
   "outputs": [],
   "source": [],
   "metadata": {
    "collapsed": false,
    "pycharm": {
     "name": "#%%\n"
    }
   }
  },
  {
   "cell_type": "code",
   "execution_count": null,
   "metadata": {
    "pycharm": {
     "name": "#%%\n"
    }
   },
   "outputs": [],
   "source": []
  }
 ],
 "metadata": {
  "kernelspec": {
   "display_name": "Python 3",
   "language": "python",
   "name": "python3"
  },
  "language_info": {
   "codemirror_mode": {
    "name": "ipython",
    "version": 3
   },
   "file_extension": ".py",
   "mimetype": "text/x-python",
   "name": "python",
   "nbconvert_exporter": "python",
   "pygments_lexer": "ipython3",
   "version": "3.8.6"
  }
 },
 "nbformat": 4,
 "nbformat_minor": 1
}